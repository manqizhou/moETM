{
 "cells": [
  {
   "cell_type": "markdown",
   "metadata": {},
   "source": [
    "### scBasset on Mouse Brain dataset"
   ]
  },
  {
   "cell_type": "code",
   "execution_count": 1,
   "metadata": {},
   "outputs": [],
   "source": [
    "# change working directory to parent\n",
    "import os\n",
    "os.chdir(\"../\")\n",
    "\n",
    "# for debugging\n",
    "from IPython.core.debugger import set_trace\n",
    "\n",
    "# for loading functions and classes from model and training related files\n",
    "import sys \n",
    "sys.path.insert(1,\"./scBasset/\")\n",
    "sys.path.insert(1,\"./scBasset/scBasset\")"
   ]
  },
  {
   "cell_type": "code",
   "execution_count": 2,
   "metadata": {},
   "outputs": [
    {
     "name": "stderr",
     "output_type": "stream",
     "text": [
      "/home/mcb/users/dcakma3/bin/miniconda3/envs/moETM/lib/python3.8/site-packages/tqdm/auto.py:22: TqdmWarning: IProgress not found. Please update jupyter and ipywidgets. See https://ipywidgets.readthedocs.io/en/stable/user_install.html\n",
      "  from .autonotebook import tqdm as notebook_tqdm\n"
     ]
    }
   ],
   "source": [
    "import torch\n",
    "import torch.nn as nn\n",
    "import torch.nn.functional as F"
   ]
  },
  {
   "cell_type": "code",
   "execution_count": 3,
   "metadata": {},
   "outputs": [],
   "source": [
    "from scBasset.dataloader import load_mouse_brain_dataset, prepare_mouse_brain_dataset\n",
    "from scBasset.scBasset.train import train_scBasset"
   ]
  },
  {
   "cell_type": "markdown",
   "metadata": {},
   "source": [
    "Please set the following variables to train the model"
   ]
  },
  {
   "cell_type": "code",
   "execution_count": 4,
   "metadata": {},
   "outputs": [],
   "source": [
    "mod1_file_path = f\"./data/mouse_brain/rna_count.preprocessed.h5ad\"\n",
    "mod2_file_path = f\"./data/mouse_brain/atac_count.preprocessed.h5ad\"\n",
    "genome_dir = \"./data/mm10\"\n",
    "\n",
    "# random state for weight initialization and dataset shuffling\n",
    "seed = 35\n",
    "\n",
    "# training on GPU/CPU\n",
    "# if you want to train the model on GPU (recommended) \n",
    "# set `gpu` to True and set gpu_id\n",
    "gpu = True\n",
    "gpu_id = 2\n",
    "\n",
    "# saving related \n",
    "dataset = \"mouse_brain\"\n",
    "result_dir = f\"./experiments/scBasset/{dataset}/results\"\n",
    "model_dir = f\"./experiments/scBasset/{dataset}/models\"\n",
    "\n",
    "# appended to the path on result_dir\n",
    "eval_figures_suffix = \"eval_figures\""
   ]
  },
  {
   "cell_type": "markdown",
   "metadata": {},
   "source": [
    "#### Load Mouse brain data"
   ]
  },
  {
   "cell_type": "code",
   "execution_count": 8,
   "metadata": {},
   "outputs": [
    {
     "name": "stdout",
     "output_type": "stream",
     "text": [
      "> Loading genome...\n",
      "> Extracting sequences underlying peaks...\n"
     ]
    }
   ],
   "source": [
    "# load mouse brain data\n",
    "adata_mod1, adata_mod2 = load_mouse_brain_dataset(mod1_file_path, mod2_file_path,\n",
    "    genome_dir=genome_dir, verbose=True) \n",
    "adata_mod1, adata_mod2 = prepare_mouse_brain_dataset(adata_mod1, adata_mod2)"
   ]
  },
  {
   "cell_type": "markdown",
   "metadata": {},
   "source": [
    "#### Train model"
   ]
  },
  {
   "cell_type": "code",
   "execution_count": 7,
   "metadata": {},
   "outputs": [
    {
     "name": "stdout",
     "output_type": "stream",
     "text": [
      "> GPU 2 is available...\n"
     ]
    }
   ],
   "source": [
    "if torch.cuda.is_available() and gpu:\n",
    "    device = torch.device(f\"cuda:{gpu_id}\")\n",
    "    print(f\"> GPU {gpu_id} is available...\")\n",
    "else:\n",
    "    device = torch.device(\"cpu\")\n",
    "    print(\"> GPU is not available... Switching to CPU\")"
   ]
  },
  {
   "cell_type": "code",
   "execution_count": 8,
   "metadata": {},
   "outputs": [],
   "source": [
    "# set model hyperparameters\n",
    "model_hps = {}\n",
    "model_hps[\"seq_embed_dim\"] = 128\n",
    "model_hps[\"seq_shift_max\"] = 3\n",
    "model_hps[\"seq_offset\"] = 30\n",
    "model_hps[\"first_conv_out_filters\"] = 288\n",
    "model_hps[\"first_conv_kernel_size\"] = 17\n",
    "model_hps[\"first_conv_pool_size\"] = 3\n",
    "model_hps[\"tower_conv_out_filters\"] = 512\n",
    "model_hps[\"tower_conv_kernel_size\"] = 5\n",
    "model_hps[\"tower_conv_pool_size\"] = 2\n",
    "model_hps[\"tower_conv_repeat\"] = 6 \n",
    "model_hps[\"channel_conv_out_filters\"] = 256\n",
    "model_hps[\"weight_init\"] = \"kaiming_normal\""
   ]
  },
  {
   "cell_type": "code",
   "execution_count": 9,
   "metadata": {},
   "outputs": [],
   "source": [
    "# set training hyperparameters\n",
    "train_hps = {}\n",
    "train_hps[\"eta\"] = 3e-4\n",
    "train_hps[\"bs\"] = 512\n",
    "train_hps[\"opt\"] = \"adam\"\n",
    "train_hps[\"max_epoch\"] = 1000\n",
    "train_hps[\"es_p\"] = 5\n",
    "train_hps[\"wd\"] = 0.001\n",
    "train_hps[\"device\"] = device\n",
    "train_hps[\"seed\"] = seed\n",
    "train_hps[\"summary\"] = True\n",
    "train_hps[\"model_dir\"] = model_dir\n",
    "train_hps[\"result_dir\"] = result_dir"
   ]
  },
  {
   "cell_type": "code",
   "execution_count": 10,
   "metadata": {},
   "outputs": [],
   "source": [
    "# set evaluation parameters\n",
    "eval_params = {}\n",
    "eval_params['batch_col'] = 'batch_indices'\n",
    "eval_params['plot_fname'] = 'moETM'\n",
    "eval_params['cell_type_col'] = 'cell_type'\n",
    "eval_params['clustering_method'] = 'louvain'\n",
    "eval_params['resolutions'] = [0.1,0.2,0.3,0.4,0.5,0.6,0.7,0.8,0.9,1,1.1,1.2,1.3,1.4,1.5,1.6,1.7,1.8,1.9,2]\n",
    "eval_params['plot_dir'] = f'{train_hps[\"result_dir\"]}/eval_figs'"
   ]
  },
  {
   "cell_type": "code",
   "execution_count": 11,
   "metadata": {},
   "outputs": [
    {
     "name": "stdout",
     "output_type": "stream",
     "text": [
      "===============================================================================================\n",
      "Layer (type:depth-idx)                        Output Shape              Param #\n",
      "===============================================================================================\n",
      "scBasset                                      --                        --\n",
      "├─StochasticReverseComplement: 1-1            [512, 1404, 4]            --\n",
      "├─StochasticShift: 1-2                        [512, 1344, 4]            --\n",
      "├─SequenceEncoder: 1-3                        [512, 128]                --\n",
      "│    └─Conv2dBlock: 2-1                       [512, 288, 448]           --\n",
      "│    │    └─Conv2d: 3-1                       [512, 288, 1344, 1]       19,872\n",
      "│    │    └─BatchNorm1d: 3-2                  [512, 288, 1344]          576\n",
      "│    │    └─MaxPool1d: 3-3                    [512, 288, 448]           --\n",
      "│    └─Conv1dTower: 2-2                       [512, 512, 7]             --\n",
      "│    │    └─Sequential: 3-4                   [512, 512, 7]             4,299,411\n",
      "│    └─Conv1dBlock: 2-3                       [512, 256, 7]             --\n",
      "│    │    └─GELU: 3-5                         [512, 512, 7]             --\n",
      "│    │    └─Conv1d: 3-6                       [512, 256, 7]             131,328\n",
      "│    │    └─BatchNorm1d: 3-7                  [512, 256, 7]             512\n",
      "│    │    └─Identity: 3-8                     [512, 256, 7]             --\n",
      "│    │    └─MaxPool1d: 3-9                    [512, 256, 7]             --\n",
      "│    └─DenseBlock: 2-4                        [512, 128]                --\n",
      "│    │    └─GELU: 3-10                        [512, 256, 7]             --\n",
      "│    │    └─Flatten: 3-11                     [512, 1792]               --\n",
      "│    │    └─Linear: 3-12                      [512, 128]                229,376\n",
      "│    │    └─BatchNorm1d: 3-13                 [512, 128]                256\n",
      "│    │    └─Dropout: 3-14                     [512, 128]                --\n",
      "│    └─GELU: 2-5                              [512, 128]                --\n",
      "├─CellSpecificFinalTransform: 1-4             [512, 3293]               --\n",
      "│    └─Linear: 2-6                            [512, 3293]               424,797\n",
      "===============================================================================================\n",
      "Total params: 5,106,128\n",
      "Trainable params: 5,106,128\n",
      "Non-trainable params: 0\n",
      "Total mult-adds (G): 239.33\n",
      "===============================================================================================\n",
      "Input size (MB): 11.50\n",
      "Forward/backward pass size (MB): 5531.49\n",
      "Params size (MB): 20.42\n",
      "Estimated Total Size (MB): 5563.41\n",
      "===============================================================================================\n",
      "Epoch 1, Train loss: 0.6474743859635459, Vald loss: 4.6750547081232074 (took 53.92920517921448 seconds)\n",
      ">> Epoch 1, Cell_ARI=0.0015, Cell_NMI=0.0612, Cell_ASW=-0.0082, Cell_ASW2=0.4959\n",
      "Epoch 2, Train loss: 0.43645743744240867, Vald loss: 3.1511283710598947 (took 54.44957256317139 seconds)\n",
      ">> Epoch 2, Cell_ARI=0.0004, Cell_NMI=0.0620, Cell_ASW=-0.0087, Cell_ASW2=0.4956\n",
      "Epoch 3, Train loss: 0.2850457460516029, Vald loss: 2.0947349458932876 (took 54.326969623565674 seconds)\n",
      ">> Epoch 3, Cell_ARI=0.0008, Cell_NMI=0.0525, Cell_ASW=-0.0100, Cell_ASW2=0.4950\n",
      "Epoch 4, Train loss: 0.20564248528745438, Vald loss: 1.6573139354586601 (took 54.55821394920349 seconds)\n",
      ">> Epoch 4, Cell_ARI=0.0008, Cell_NMI=0.0505, Cell_ASW=-0.0132, Cell_ASW2=0.4934\n",
      "Epoch 5, Train loss: 0.17001362782385615, Vald loss: 1.415235298126936 (took 54.61674928665161 seconds)\n",
      ">> Epoch 5, Cell_ARI=0.0010, Cell_NMI=0.0523, Cell_ASW=-0.0182, Cell_ASW2=0.4909\n",
      "Epoch 6, Train loss: 0.14892203874058194, Vald loss: 1.2653484903275967 (took 54.46918439865112 seconds)\n",
      ">> Epoch 6, Cell_ARI=0.0013, Cell_NMI=0.0588, Cell_ASW=-0.0246, Cell_ASW2=0.4877\n",
      "Epoch 7, Train loss: 0.13447498025165663, Vald loss: 1.1526577666401863 (took 54.65522575378418 seconds)\n",
      ">> Epoch 7, Cell_ARI=0.0037, Cell_NMI=0.0600, Cell_ASW=-0.0316, Cell_ASW2=0.4842\n",
      "Epoch 8, Train loss: 0.12411383046872086, Vald loss: 1.0842442866414785 (took 54.70338463783264 seconds)\n",
      ">> Epoch 8, Cell_ARI=0.0030, Cell_NMI=0.0630, Cell_ASW=-0.0390, Cell_ASW2=0.4805\n",
      "Epoch 9, Train loss: 0.11721003063850932, Vald loss: 1.0268690783530474 (took 54.45341873168945 seconds)\n",
      ">> Epoch 9, Cell_ARI=0.0009, Cell_NMI=0.0655, Cell_ASW=-0.0464, Cell_ASW2=0.4768\n",
      "Epoch 10, Train loss: 0.11194822039041254, Vald loss: 0.9873367972671986 (took 54.65821862220764 seconds)\n",
      ">> Epoch 10, Cell_ARI=0.0011, Cell_NMI=0.0696, Cell_ASW=-0.0538, Cell_ASW2=0.4731\n",
      "Epoch 11, Train loss: 0.10780321086446444, Vald loss: 0.9498727489262819 (took 54.90880274772644 seconds)\n",
      ">> Epoch 11, Cell_ARI=0.0014, Cell_NMI=0.0698, Cell_ASW=-0.0598, Cell_ASW2=0.4701\n",
      "Epoch 12, Train loss: 0.10456236120727327, Vald loss: 0.929533839598298 (took 54.63218975067139 seconds)\n",
      ">> Epoch 12, Cell_ARI=0.0025, Cell_NMI=0.0651, Cell_ASW=-0.0634, Cell_ASW2=0.4683\n",
      "Epoch 13, Train loss: 0.1019263156172302, Vald loss: 0.9079129688441754 (took 54.54305338859558 seconds)\n",
      ">> Epoch 13, Cell_ARI=0.0087, Cell_NMI=0.0756, Cell_ASW=-0.0591, Cell_ASW2=0.4705\n",
      "Epoch 14, Train loss: 0.09981383830308914, Vald loss: 0.8985351502895356 (took 54.69016933441162 seconds)\n",
      ">> Epoch 14, Cell_ARI=0.0121, Cell_NMI=0.0769, Cell_ASW=-0.0604, Cell_ASW2=0.4698\n",
      "Epoch 15, Train loss: 0.09761549656589825, Vald loss: 0.8725647166371345 (took 54.3582546710968 seconds)\n",
      ">> Epoch 15, Cell_ARI=0.0153, Cell_NMI=0.0801, Cell_ASW=-0.0672, Cell_ASW2=0.4664\n",
      "Epoch 16, Train loss: 0.09602924121750725, Vald loss: 0.8563457734882831 (took 54.37730407714844 seconds)\n",
      ">> Epoch 16, Cell_ARI=0.0171, Cell_NMI=0.0812, Cell_ASW=-0.0742, Cell_ASW2=0.4629\n",
      "Epoch 17, Train loss: 0.09458778761327266, Vald loss: 0.8445138487964868 (took 54.47092151641846 seconds)\n",
      ">> Epoch 17, Cell_ARI=0.0187, Cell_NMI=0.0785, Cell_ASW=-0.0901, Cell_ASW2=0.4549\n",
      "Epoch 18, Train loss: 0.09319532244569725, Vald loss: 0.8316044181585311 (took 54.59560227394104 seconds)\n",
      ">> Epoch 18, Cell_ARI=0.0199, Cell_NMI=0.0695, Cell_ASW=-0.0884, Cell_ASW2=0.4558\n",
      "Epoch 19, Train loss: 0.09205783208211263, Vald loss: 0.8216309729963541 (took 54.93694257736206 seconds)\n",
      ">> Epoch 19, Cell_ARI=0.0185, Cell_NMI=0.0620, Cell_ASW=-0.1002, Cell_ASW2=0.4499\n",
      "Epoch 20, Train loss: 0.09070420861244202, Vald loss: 0.8130360964685679 (took 54.37141275405884 seconds)\n",
      ">> Epoch 20, Cell_ARI=0.0184, Cell_NMI=0.0586, Cell_ASW=-0.1071, Cell_ASW2=0.4465\n",
      "Epoch 21, Train loss: 0.08962395932111475, Vald loss: 0.8036960870027542 (took 54.70412564277649 seconds)\n",
      ">> Epoch 21, Cell_ARI=0.0215, Cell_NMI=0.0547, Cell_ASW=-0.1135, Cell_ASW2=0.4433\n",
      "Epoch 22, Train loss: 0.08827613128556146, Vald loss: 0.7913733884692192 (took 54.44648838043213 seconds)\n",
      ">> Epoch 22, Cell_ARI=0.0216, Cell_NMI=0.0540, Cell_ASW=-0.1257, Cell_ASW2=0.4372\n",
      "Epoch 23, Train loss: 0.08706966468857394, Vald loss: 0.7765203107148408 (took 54.38519310951233 seconds)\n",
      ">> Epoch 23, Cell_ARI=0.0196, Cell_NMI=0.0537, Cell_ASW=-0.1259, Cell_ASW2=0.4370\n",
      "Epoch 24, Train loss: 0.08595065623521805, Vald loss: 0.7652377758175135 (took 54.40180563926697 seconds)\n",
      ">> Epoch 24, Cell_ARI=0.0254, Cell_NMI=0.0507, Cell_ASW=-0.1258, Cell_ASW2=0.4371\n",
      "Epoch 25, Train loss: 0.08475642978317208, Vald loss: 0.7566038738936186 (took 54.412712812423706 seconds)\n",
      ">> Epoch 25, Cell_ARI=0.0209, Cell_NMI=0.0528, Cell_ASW=-0.1236, Cell_ASW2=0.4382\n",
      "Epoch 26, Train loss: 0.08354778467781014, Vald loss: 0.7522761523723602 (took 54.62171673774719 seconds)\n",
      ">> Epoch 26, Cell_ARI=0.0203, Cell_NMI=0.0519, Cell_ASW=-0.1171, Cell_ASW2=0.4415\n",
      "Epoch 27, Train loss: 0.08246546242800024, Vald loss: 0.7357041910290718 (took 54.44450068473816 seconds)\n",
      ">> Epoch 27, Cell_ARI=0.0201, Cell_NMI=0.0523, Cell_ASW=-0.1150, Cell_ASW2=0.4425\n",
      "Epoch 28, Train loss: 0.08125166313515769, Vald loss: 0.7245813619345427 (took 54.81988286972046 seconds)\n",
      ">> Epoch 28, Cell_ARI=0.0208, Cell_NMI=0.0508, Cell_ASW=-0.1120, Cell_ASW2=0.4440\n",
      "Epoch 29, Train loss: 0.08016032713154951, Vald loss: 0.7154833361506462 (took 54.47496438026428 seconds)\n",
      ">> Epoch 29, Cell_ARI=0.0219, Cell_NMI=0.0518, Cell_ASW=-0.1145, Cell_ASW2=0.4428\n",
      "Epoch 30, Train loss: 0.07892713170084688, Vald loss: 0.7027197502553463 (took 54.78984880447388 seconds)\n",
      ">> Epoch 30, Cell_ARI=0.0197, Cell_NMI=0.0561, Cell_ASW=-0.1172, Cell_ASW2=0.4414\n",
      "Epoch 31, Train loss: 0.07753293725351493, Vald loss: 0.6916694812476635 (took 54.336671590805054 seconds)\n",
      ">> Epoch 31, Cell_ARI=0.0223, Cell_NMI=0.0698, Cell_ASW=-0.1086, Cell_ASW2=0.4457\n",
      "Epoch 32, Train loss: 0.07638469727502929, Vald loss: 0.6823855191469193 (took 54.17996263504028 seconds)\n",
      ">> Epoch 32, Cell_ARI=0.0235, Cell_NMI=0.0710, Cell_ASW=-0.1186, Cell_ASW2=0.4407\n",
      "Epoch 33, Train loss: 0.07538105990323755, Vald loss: 0.6746408179402351 (took 54.40747404098511 seconds)\n",
      ">> Epoch 33, Cell_ARI=0.0226, Cell_NMI=0.0657, Cell_ASW=-0.1257, Cell_ASW2=0.4371\n",
      "Epoch 34, Train loss: 0.07451567447019948, Vald loss: 0.6682832147926092 (took 54.36556959152222 seconds)\n",
      ">> Epoch 34, Cell_ARI=0.0225, Cell_NMI=0.0647, Cell_ASW=-0.1127, Cell_ASW2=0.4437\n",
      "Epoch 35, Train loss: 0.07382428753707145, Vald loss: 0.6629833165556193 (took 54.364718437194824 seconds)\n",
      ">> Epoch 35, Cell_ARI=0.0232, Cell_NMI=0.0683, Cell_ASW=-0.1209, Cell_ASW2=0.4395\n",
      "Epoch 36, Train loss: 0.07318925137321154, Vald loss: 0.6564491767436266 (took 54.73922610282898 seconds)\n",
      ">> Epoch 36, Cell_ARI=0.0227, Cell_NMI=0.0600, Cell_ASW=-0.1288, Cell_ASW2=0.4356\n",
      "Epoch 37, Train loss: 0.07265902832150459, Vald loss: 0.650598544254899 (took 54.25434589385986 seconds)\n",
      ">> Epoch 37, Cell_ARI=0.0220, Cell_NMI=0.0543, Cell_ASW=-0.1187, Cell_ASW2=0.4407\n",
      "Epoch 38, Train loss: 0.07220744242270788, Vald loss: 0.6484232537448407 (took 54.51333427429199 seconds)\n",
      ">> Epoch 38, Cell_ARI=0.0192, Cell_NMI=0.0550, Cell_ASW=-0.1173, Cell_ASW2=0.4414\n",
      "Epoch 39, Train loss: 0.0718214864946074, Vald loss: 0.6440421909093856 (took 54.349828004837036 seconds)\n",
      ">> Epoch 39, Cell_ARI=0.0163, Cell_NMI=0.0514, Cell_ASW=-0.1260, Cell_ASW2=0.4370\n",
      "Epoch 40, Train loss: 0.07149626285665565, Vald loss: 0.6432834554463625 (took 54.62111234664917 seconds)\n",
      ">> Epoch 40, Cell_ARI=0.0174, Cell_NMI=0.0483, Cell_ASW=-0.1155, Cell_ASW2=0.4422\n",
      "Epoch 41, Train loss: 0.07120520128972001, Vald loss: 0.6400204475969076 (took 54.653132915496826 seconds)\n",
      ">> Epoch 41, Cell_ARI=0.0184, Cell_NMI=0.0510, Cell_ASW=-0.1200, Cell_ASW2=0.4400\n",
      "Epoch 42, Train loss: 0.07102885825766457, Vald loss: 0.6385667782276869 (took 54.85246706008911 seconds)\n",
      ">> Epoch 42, Cell_ARI=0.0182, Cell_NMI=0.0525, Cell_ASW=-0.1317, Cell_ASW2=0.4341\n",
      "Epoch 43, Train loss: 0.0708091263141897, Vald loss: 0.6372940056025982 (took 54.212284564971924 seconds)\n",
      ">> Epoch 43, Cell_ARI=0.0218, Cell_NMI=0.0487, Cell_ASW=-0.1137, Cell_ASW2=0.4431\n",
      "Epoch 44, Train loss: 0.07069899522595935, Vald loss: 0.6362285546958446 (took 54.329890966415405 seconds)\n",
      ">> Epoch 44, Cell_ARI=0.0162, Cell_NMI=0.0433, Cell_ASW=-0.1011, Cell_ASW2=0.4494\n",
      "Epoch 45, Train loss: 0.07053202730086115, Vald loss: 0.6340456590056419 (took 54.396353006362915 seconds)\n",
      ">> Epoch 45, Cell_ARI=0.0194, Cell_NMI=0.0464, Cell_ASW=-0.1310, Cell_ASW2=0.4345\n",
      "Epoch 46, Train loss: 0.07045802958309651, Vald loss: 0.6336724884808064 (took 54.532278299331665 seconds)\n",
      ">> Epoch 46, Cell_ARI=0.0180, Cell_NMI=0.0451, Cell_ASW=-0.1049, Cell_ASW2=0.4476\n",
      "Epoch 47, Train loss: 0.07038726723856396, Vald loss: 0.6339037701487541 (took 54.34572720527649 seconds)\n",
      ">> Epoch 47, Cell_ARI=0.0196, Cell_NMI=0.0435, Cell_ASW=-0.1042, Cell_ASW2=0.4479\n",
      "Epoch 48, Train loss: 0.07028426627318064, Vald loss: 0.6331373780965805 (took 54.39232778549194 seconds)\n",
      ">> Epoch 48, Cell_ARI=0.0189, Cell_NMI=0.0435, Cell_ASW=-0.1071, Cell_ASW2=0.4465\n",
      "Epoch 49, Train loss: 0.0702656623803907, Vald loss: 0.6318863525986671 (took 54.63461112976074 seconds)\n",
      ">> Epoch 49, Cell_ARI=0.0156, Cell_NMI=0.0462, Cell_ASW=-0.1202, Cell_ASW2=0.4399\n",
      "Epoch 50, Train loss: 0.07020151101880603, Vald loss: 0.6317911528050899 (took 54.42510199546814 seconds)\n",
      ">> Epoch 50, Cell_ARI=0.0176, Cell_NMI=0.0431, Cell_ASW=-0.1368, Cell_ASW2=0.4316\n",
      "Epoch 51, Train loss: 0.07020310113827387, Vald loss: 0.6316936101764441 (took 54.49495840072632 seconds)\n",
      ">> Epoch 51, Cell_ARI=0.0142, Cell_NMI=0.0419, Cell_ASW=-0.1133, Cell_ASW2=0.4434\n",
      "Epoch 52, Train loss: 0.07021036280526055, Vald loss: 0.6319361101835966 (took 54.56887650489807 seconds)\n",
      ">> Epoch 52, Cell_ARI=0.0188, Cell_NMI=0.0458, Cell_ASW=-0.1162, Cell_ASW2=0.4419\n",
      "Epoch 53, Train loss: 0.07018816913995478, Vald loss: 0.6327641412615777 (took 54.641045570373535 seconds)\n",
      ">> Epoch 53, Cell_ARI=0.0158, Cell_NMI=0.0448, Cell_ASW=-0.1171, Cell_ASW2=0.4415\n",
      "Epoch 54, Train loss: 0.0701987819125255, Vald loss: 0.6311628211289644 (took 54.568373680114746 seconds)\n",
      ">> Epoch 54, Cell_ARI=0.0169, Cell_NMI=0.0454, Cell_ASW=-0.1353, Cell_ASW2=0.4324\n",
      "Epoch 55, Train loss: 0.07020953463183509, Vald loss: 0.6312724638730287 (took 54.57090353965759 seconds)\n",
      ">> Epoch 55, Cell_ARI=0.0163, Cell_NMI=0.0416, Cell_ASW=-0.1225, Cell_ASW2=0.4387\n",
      "Epoch 56, Train loss: 0.07020272579458024, Vald loss: 0.631584844738245 (took 54.57711744308472 seconds)\n",
      ">> Epoch 56, Cell_ARI=0.0167, Cell_NMI=0.0442, Cell_ASW=-0.1182, Cell_ASW2=0.4409\n",
      "Epoch 57, Train loss: 0.07019977813793553, Vald loss: 0.6320375896990299 (took 54.261088132858276 seconds)\n",
      ">> Epoch 57, Cell_ARI=0.0184, Cell_NMI=0.0462, Cell_ASW=-0.1104, Cell_ASW2=0.4448\n",
      "Epoch 58, Train loss: 0.07018544988499748, Vald loss: 0.63248998709023 (took 54.648531913757324 seconds)\n",
      ">> Epoch 58, Cell_ARI=0.0165, Cell_NMI=0.0445, Cell_ASW=-0.1268, Cell_ASW2=0.4366\n",
      "Epoch 59, Train loss: 0.07023358531296253, Vald loss: 0.6307651598006487 (took 927.9382078647614 seconds)\n",
      ">> Epoch 59, Cell_ARI=0.0122, Cell_NMI=0.0394, Cell_ASW=-0.1117, Cell_ASW2=0.4441\n",
      "Epoch 60, Train loss: 0.0702266668693887, Vald loss: 0.6327543999999762 (took 52.95694661140442 seconds)\n",
      ">> Epoch 60, Cell_ARI=0.0183, Cell_NMI=0.0437, Cell_ASW=-0.1430, Cell_ASW2=0.4285\n",
      "Epoch 61, Train loss: 0.07020935970875952, Vald loss: 0.6328778512775898 (took 53.78519892692566 seconds)\n",
      ">> Epoch 61, Cell_ARI=0.0137, Cell_NMI=0.0438, Cell_ASW=-0.1223, Cell_ASW2=0.4388\n",
      "Epoch 62, Train loss: 0.07020137326584922, Vald loss: 0.6320140436291695 (took 53.77979755401611 seconds)\n",
      ">> Epoch 62, Cell_ARI=0.0161, Cell_NMI=0.0431, Cell_ASW=-0.1115, Cell_ASW2=0.4443\n",
      "Epoch 63, Train loss: 0.07020995873543952, Vald loss: 0.6325285889208316 (took 53.87618613243103 seconds)\n",
      ">> Epoch 63, Cell_ARI=0.0168, Cell_NMI=0.0408, Cell_ASW=-0.1074, Cell_ASW2=0.4463\n",
      "Epoch 64, Train loss: 0.07022645841870043, Vald loss: 0.6319354970008135 (took 927.6645028591156 seconds)\n",
      ">> Epoch 64, Cell_ARI=0.0169, Cell_NMI=0.0422, Cell_ASW=-0.1122, Cell_ASW2=0.4439\n",
      "Early stopping at epoch 64\n",
      "Training took 6366.972604513168 seconds.\n"
     ]
    }
   ],
   "source": [
    "# train the model\n",
    "train_scBasset(model_hps, train_hps, adata_mod2, eval_params)"
   ]
  }
 ],
 "metadata": {
  "interpreter": {
   "hash": "b83f976b5780cadf247663245b1045c4826f784e9f9a667338c10ea7334f6a28"
  },
  "kernelspec": {
   "display_name": "Python 3.8.12",
   "language": "python",
   "name": "python3"
  },
  "language_info": {
   "codemirror_mode": {
    "name": "ipython",
    "version": 3
   },
   "file_extension": ".py",
   "mimetype": "text/x-python",
   "name": "python",
   "nbconvert_exporter": "python",
   "pygments_lexer": "ipython3",
   "version": "3.8.12"
  },
  "orig_nbformat": 4
 },
 "nbformat": 4,
 "nbformat_minor": 2
}
