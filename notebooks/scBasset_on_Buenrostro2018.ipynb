{
 "cells": [
  {
   "cell_type": "markdown",
   "metadata": {},
   "source": [
    "### Test scBasset Pytorch implementation on Buenrostro2018 ATAC-seq data"
   ]
  },
  {
   "cell_type": "code",
   "execution_count": 1,
   "metadata": {},
   "outputs": [],
   "source": [
    "# change working directory to parent\n",
    "import os\n",
    "os.chdir(\"../\")\n",
    "\n",
    "# for debugging\n",
    "from IPython.core.debugger import set_trace\n",
    "\n",
    "# for loading functions and classes from model and training related files\n",
    "import sys \n",
    "sys.path.insert(1,\"./scBasset/\")\n",
    "sys.path.insert(2,\"./scBasset/scBasset\")"
   ]
  },
  {
   "cell_type": "code",
   "execution_count": 2,
   "metadata": {},
   "outputs": [
    {
     "name": "stderr",
     "output_type": "stream",
     "text": [
      "/home/mcb/users/dcakma3/bin/miniconda3/envs/moETM/lib/python3.8/site-packages/tqdm/auto.py:22: TqdmWarning: IProgress not found. Please update jupyter and ipywidgets. See https://ipywidgets.readthedocs.io/en/stable/user_install.html\n",
      "  from .autonotebook import tqdm as notebook_tqdm\n"
     ]
    }
   ],
   "source": [
    "import torch\n",
    "import torch.nn as nn\n",
    "import torch.nn.functional as F"
   ]
  },
  {
   "cell_type": "code",
   "execution_count": 3,
   "metadata": {},
   "outputs": [],
   "source": [
    "from scBasset.dataloader import load_Buenrostro2018_dataset, prepare_Buenrostro2018_dataset\n",
    "from scBasset.scBasset.train import train_scBasset_AUC"
   ]
  },
  {
   "cell_type": "markdown",
   "metadata": {},
   "source": [
    "Please set the following variables to train the model"
   ]
  },
  {
   "cell_type": "code",
   "execution_count": 14,
   "metadata": {},
   "outputs": [],
   "source": [
    "dataset_path = f\"./data/Buenrostro2018/preprocessed.Buenrostro2018.atac_ad.h5ad\"\n",
    "genome_dir = \"./data/hg19\" # validated from paper\n",
    "\n",
    "# random state for weight initialization and dataset shuffling\n",
    "seed = 45\n",
    "\n",
    "# training on GPU/CPU\n",
    "# if you want to train the model on GPU (recommended) \n",
    "# set `gpu` to True and set gpu_id\n",
    "gpu = True\n",
    "gpu_id = 2\n",
    "\n",
    "# saving related \n",
    "dataset = \"buenrostro2018\"\n",
    "result_dir_prefix = f\"./experiments/scBasset/{dataset}/results\"\n",
    "model_dir_prefix = f\"./experiments/scBasset/{dataset}/models\"\n",
    "\n",
    "# appended to the path on result_dir\n",
    "eval_figures_suffix = \"eval_figs\""
   ]
  },
  {
   "cell_type": "markdown",
   "metadata": {},
   "source": [
    "#### Load Buenrostro2018 data"
   ]
  },
  {
   "cell_type": "code",
   "execution_count": 15,
   "metadata": {},
   "outputs": [
    {
     "name": "stderr",
     "output_type": "stream",
     "text": [
      "Trying to set attribute `.obs` of view, copying.\n"
     ]
    },
    {
     "name": "stdout",
     "output_type": "stream",
     "text": [
      "> Loading genome...\n"
     ]
    },
    {
     "ename": "KeyboardInterrupt",
     "evalue": "",
     "output_type": "error",
     "traceback": [
      "\u001b[0;31m---------------------------------------------------------------------------\u001b[0m",
      "\u001b[0;31mKeyboardInterrupt\u001b[0m                         Traceback (most recent call last)",
      "\u001b[1;32m/home/mcb/users/dcakma3/moETM_collaboration/multi-modal-single-cell-integration/notebooks/scBasset_on_Buenrostro2018.ipynb Cell 8'\u001b[0m in \u001b[0;36m<cell line: 1>\u001b[0;34m()\u001b[0m\n\u001b[0;32m----> <a href='vscode-notebook-cell://ssh-remote%2Bmcb-gpu1.cs.mcgill.ca/home/mcb/users/dcakma3/moETM_collaboration/multi-modal-single-cell-integration/notebooks/scBasset_on_Buenrostro2018.ipynb#ch0000007vscode-remote?line=0'>1</a>\u001b[0m adata_atac \u001b[39m=\u001b[39m load_Buenrostro2018_dataset(dataset_path, genome_dir\u001b[39m=\u001b[39;49mgenome_dir,\\\n\u001b[1;32m      <a href='vscode-notebook-cell://ssh-remote%2Bmcb-gpu1.cs.mcgill.ca/home/mcb/users/dcakma3/moETM_collaboration/multi-modal-single-cell-integration/notebooks/scBasset_on_Buenrostro2018.ipynb#ch0000007vscode-remote?line=1'>2</a>\u001b[0m     seqlen\u001b[39m=\u001b[39;49m\u001b[39m1344\u001b[39;49m, verbose\u001b[39m=\u001b[39;49m\u001b[39mTrue\u001b[39;49;00m)\n\u001b[1;32m      <a href='vscode-notebook-cell://ssh-remote%2Bmcb-gpu1.cs.mcgill.ca/home/mcb/users/dcakma3/moETM_collaboration/multi-modal-single-cell-integration/notebooks/scBasset_on_Buenrostro2018.ipynb#ch0000007vscode-remote?line=2'>3</a>\u001b[0m adata_atac \u001b[39m=\u001b[39m prepare_Buenrostro2018_dataset(adata_atac)\n",
      "File \u001b[0;32m~/moETM_collaboration/multi-modal-single-cell-integration/scBasset/dataloader.py:308\u001b[0m, in \u001b[0;36mload_Buenrostro2018_dataset\u001b[0;34m(atac_file_path, genome_dir, seqlen, verbose)\u001b[0m\n\u001b[1;32m    <a href='file:///home/mcb/users/dcakma3/moETM_collaboration/multi-modal-single-cell-integration/scBasset/dataloader.py?line=304'>305</a>\u001b[0m     \u001b[39mprint\u001b[39m(\u001b[39m\"\u001b[39m\u001b[39m> Loading genome...\u001b[39m\u001b[39m\"\u001b[39m)\n\u001b[1;32m    <a href='file:///home/mcb/users/dcakma3/moETM_collaboration/multi-modal-single-cell-integration/scBasset/dataloader.py?line=306'>307</a>\u001b[0m \u001b[39m# load hg19\u001b[39;00m\n\u001b[0;32m--> <a href='file:///home/mcb/users/dcakma3/moETM_collaboration/multi-modal-single-cell-integration/scBasset/dataloader.py?line=307'>308</a>\u001b[0m genome \u001b[39m=\u001b[39m load_genome_to_dict(genome_dir, chr_filenames)\n\u001b[1;32m    <a href='file:///home/mcb/users/dcakma3/moETM_collaboration/multi-modal-single-cell-integration/scBasset/dataloader.py?line=309'>310</a>\u001b[0m \u001b[39m# get peaks\u001b[39;00m\n\u001b[1;32m    <a href='file:///home/mcb/users/dcakma3/moETM_collaboration/multi-modal-single-cell-integration/scBasset/dataloader.py?line=310'>311</a>\u001b[0m peaks \u001b[39m=\u001b[39m adata\u001b[39m.\u001b[39mvar\u001b[39m.\u001b[39mcopy()\n",
      "File \u001b[0;32m~/moETM_collaboration/multi-modal-single-cell-integration/./scBasset/genome_utils.py:43\u001b[0m, in \u001b[0;36mload_genome_to_dict\u001b[0;34m(genome_dir, chr_filenames)\u001b[0m\n\u001b[1;32m     <a href='file:///home/mcb/users/dcakma3/moETM_collaboration/multi-modal-single-cell-integration/./scBasset/genome_utils.py?line=40'>41</a>\u001b[0m file \u001b[39m=\u001b[39m \u001b[39mopen\u001b[39m(filename)\n\u001b[1;32m     <a href='file:///home/mcb/users/dcakma3/moETM_collaboration/multi-modal-single-cell-integration/./scBasset/genome_utils.py?line=41'>42</a>\u001b[0m fasta \u001b[39m=\u001b[39m SeqIO\u001b[39m.\u001b[39mparse(file, \u001b[39m\"\u001b[39m\u001b[39mfasta\u001b[39m\u001b[39m\"\u001b[39m)\n\u001b[0;32m---> <a href='file:///home/mcb/users/dcakma3/moETM_collaboration/multi-modal-single-cell-integration/./scBasset/genome_utils.py?line=42'>43</a>\u001b[0m \u001b[39mfor\u001b[39;00m record \u001b[39min\u001b[39;00m fasta:\n\u001b[1;32m     <a href='file:///home/mcb/users/dcakma3/moETM_collaboration/multi-modal-single-cell-integration/./scBasset/genome_utils.py?line=43'>44</a>\u001b[0m     name, sequence \u001b[39m=\u001b[39m record\u001b[39m.\u001b[39mid, \u001b[39mstr\u001b[39m(record\u001b[39m.\u001b[39mseq)\n\u001b[1;32m     <a href='file:///home/mcb/users/dcakma3/moETM_collaboration/multi-modal-single-cell-integration/./scBasset/genome_utils.py?line=44'>45</a>\u001b[0m     sequences[name] \u001b[39m=\u001b[39m sequence\n",
      "File \u001b[0;32m~/bin/miniconda3/envs/moETM/lib/python3.8/site-packages/Bio/SeqIO/Interfaces.py:74\u001b[0m, in \u001b[0;36mSequenceIterator.__next__\u001b[0;34m(self)\u001b[0m\n\u001b[1;32m     <a href='file:///home/mcb/users/dcakma3/bin/miniconda3/envs/moETM/lib/python3.8/site-packages/Bio/SeqIO/Interfaces.py?line=71'>72</a>\u001b[0m \u001b[39mdef\u001b[39;00m \u001b[39m__next__\u001b[39m(\u001b[39mself\u001b[39m):\n\u001b[1;32m     <a href='file:///home/mcb/users/dcakma3/bin/miniconda3/envs/moETM/lib/python3.8/site-packages/Bio/SeqIO/Interfaces.py?line=72'>73</a>\u001b[0m     \u001b[39mtry\u001b[39;00m:\n\u001b[0;32m---> <a href='file:///home/mcb/users/dcakma3/bin/miniconda3/envs/moETM/lib/python3.8/site-packages/Bio/SeqIO/Interfaces.py?line=73'>74</a>\u001b[0m         \u001b[39mreturn\u001b[39;00m \u001b[39mnext\u001b[39;49m(\u001b[39mself\u001b[39;49m\u001b[39m.\u001b[39;49mrecords)\n\u001b[1;32m     <a href='file:///home/mcb/users/dcakma3/bin/miniconda3/envs/moETM/lib/python3.8/site-packages/Bio/SeqIO/Interfaces.py?line=74'>75</a>\u001b[0m     \u001b[39mexcept\u001b[39;00m \u001b[39mException\u001b[39;00m:\n\u001b[1;32m     <a href='file:///home/mcb/users/dcakma3/bin/miniconda3/envs/moETM/lib/python3.8/site-packages/Bio/SeqIO/Interfaces.py?line=75'>76</a>\u001b[0m         \u001b[39mif\u001b[39;00m \u001b[39mself\u001b[39m\u001b[39m.\u001b[39mshould_close_stream:\n",
      "File \u001b[0;32m~/bin/miniconda3/envs/moETM/lib/python3.8/site-packages/Bio/SeqIO/FastaIO.py:198\u001b[0m, in \u001b[0;36mFastaIterator.iterate\u001b[0;34m(self, handle)\u001b[0m\n\u001b[1;32m    <a href='file:///home/mcb/users/dcakma3/bin/miniconda3/envs/moETM/lib/python3.8/site-packages/Bio/SeqIO/FastaIO.py?line=195'>196</a>\u001b[0m         \u001b[39myield\u001b[39;00m SeqRecord(Seq(sequence), \u001b[39mid\u001b[39m\u001b[39m=\u001b[39m\u001b[39mid\u001b[39m, name\u001b[39m=\u001b[39mname, description\u001b[39m=\u001b[39mdescr)\n\u001b[1;32m    <a href='file:///home/mcb/users/dcakma3/bin/miniconda3/envs/moETM/lib/python3.8/site-packages/Bio/SeqIO/FastaIO.py?line=196'>197</a>\u001b[0m \u001b[39melse\u001b[39;00m:\n\u001b[0;32m--> <a href='file:///home/mcb/users/dcakma3/bin/miniconda3/envs/moETM/lib/python3.8/site-packages/Bio/SeqIO/FastaIO.py?line=197'>198</a>\u001b[0m     \u001b[39mfor\u001b[39;00m title, sequence \u001b[39min\u001b[39;00m SimpleFastaParser(handle):\n\u001b[1;32m    <a href='file:///home/mcb/users/dcakma3/bin/miniconda3/envs/moETM/lib/python3.8/site-packages/Bio/SeqIO/FastaIO.py?line=198'>199</a>\u001b[0m         \u001b[39mtry\u001b[39;00m:\n\u001b[1;32m    <a href='file:///home/mcb/users/dcakma3/bin/miniconda3/envs/moETM/lib/python3.8/site-packages/Bio/SeqIO/FastaIO.py?line=199'>200</a>\u001b[0m             first_word \u001b[39m=\u001b[39m title\u001b[39m.\u001b[39msplit(\u001b[39mNone\u001b[39;00m, \u001b[39m1\u001b[39m)[\u001b[39m0\u001b[39m]\n",
      "File \u001b[0;32m~/bin/miniconda3/envs/moETM/lib/python3.8/site-packages/Bio/SeqIO/FastaIO.py:66\u001b[0m, in \u001b[0;36mSimpleFastaParser\u001b[0;34m(handle)\u001b[0m\n\u001b[1;32m     <a href='file:///home/mcb/users/dcakma3/bin/miniconda3/envs/moETM/lib/python3.8/site-packages/Bio/SeqIO/FastaIO.py?line=63'>64</a>\u001b[0m         title \u001b[39m=\u001b[39m line[\u001b[39m1\u001b[39m:]\u001b[39m.\u001b[39mrstrip()\n\u001b[1;32m     <a href='file:///home/mcb/users/dcakma3/bin/miniconda3/envs/moETM/lib/python3.8/site-packages/Bio/SeqIO/FastaIO.py?line=64'>65</a>\u001b[0m         \u001b[39mcontinue\u001b[39;00m\n\u001b[0;32m---> <a href='file:///home/mcb/users/dcakma3/bin/miniconda3/envs/moETM/lib/python3.8/site-packages/Bio/SeqIO/FastaIO.py?line=65'>66</a>\u001b[0m     lines\u001b[39m.\u001b[39mappend(line\u001b[39m.\u001b[39;49mrstrip())\n\u001b[1;32m     <a href='file:///home/mcb/users/dcakma3/bin/miniconda3/envs/moETM/lib/python3.8/site-packages/Bio/SeqIO/FastaIO.py?line=67'>68</a>\u001b[0m \u001b[39myield\u001b[39;00m title, \u001b[39m\"\u001b[39m\u001b[39m\"\u001b[39m\u001b[39m.\u001b[39mjoin(lines)\u001b[39m.\u001b[39mreplace(\u001b[39m\"\u001b[39m\u001b[39m \u001b[39m\u001b[39m\"\u001b[39m, \u001b[39m\"\u001b[39m\u001b[39m\"\u001b[39m)\u001b[39m.\u001b[39mreplace(\u001b[39m\"\u001b[39m\u001b[39m\\r\u001b[39;00m\u001b[39m\"\u001b[39m, \u001b[39m\"\u001b[39m\u001b[39m\"\u001b[39m)\n",
      "\u001b[0;31mKeyboardInterrupt\u001b[0m: "
     ]
    }
   ],
   "source": [
    "adata_atac = load_Buenrostro2018_dataset(dataset_path, genome_dir=genome_dir,\\\n",
    "    seqlen=1344, verbose=True)\n",
    "adata_atac = prepare_Buenrostro2018_dataset(adata_atac)"
   ]
  },
  {
   "cell_type": "markdown",
   "metadata": {},
   "source": [
    "### Train model"
   ]
  },
  {
   "cell_type": "code",
   "execution_count": null,
   "metadata": {},
   "outputs": [
    {
     "name": "stdout",
     "output_type": "stream",
     "text": [
      "> GPU 2 is available...\n"
     ]
    }
   ],
   "source": [
    "if torch.cuda.is_available() and gpu:\n",
    "    device = torch.device(f\"cuda:{gpu_id}\")\n",
    "    print(f\"> GPU {gpu_id} is available...\")\n",
    "else:\n",
    "    device = torch.device(\"cpu\")\n",
    "    print(\"> GPU is not available... Switching to CPU\")"
   ]
  },
  {
   "cell_type": "code",
   "execution_count": null,
   "metadata": {},
   "outputs": [],
   "source": [
    "# set model hyperparameters\n",
    "model_hps = {}\n",
    "model_hps[\"seq_embed_dim\"] = 32\n",
    "model_hps[\"seq_shift_max\"] = 3\n",
    "model_hps[\"seq_offset\"] = 30\n",
    "model_hps[\"first_conv_out_filters\"] = 288\n",
    "model_hps[\"first_conv_kernel_size\"] = 17\n",
    "model_hps[\"first_conv_pool_size\"] = 3\n",
    "model_hps[\"tower_conv_out_filters\"] = 512\n",
    "model_hps[\"tower_conv_kernel_size\"] = 5\n",
    "model_hps[\"tower_conv_pool_size\"] = 2\n",
    "model_hps[\"tower_conv_repeat\"] = 6 \n",
    "model_hps[\"channel_conv_out_filters\"] = 256\n",
    "model_hps[\"weight_init\"] = \"kaiming_normal\""
   ]
  },
  {
   "cell_type": "code",
   "execution_count": null,
   "metadata": {},
   "outputs": [],
   "source": [
    "# set training hyperparameters\n",
    "train_hps = {}\n",
    "train_hps[\"eta\"] = 3e-4\n",
    "train_hps[\"bs\"] = 512\n",
    "train_hps[\"opt\"] = \"adam\"\n",
    "train_hps[\"max_epoch\"] = 1000\n",
    "train_hps[\"es_p\"] = 5\n",
    "train_hps[\"wd\"] = 0.0001\n",
    "train_hps[\"device\"] = device\n",
    "train_hps[\"seed\"] = seed\n",
    "train_hps[\"summary\"] = True\n",
    "\n",
    "# update result and model dirs with respect to model hyperparameters\n",
    "model_name = f\"seed{train_hps['seed']}_bneck{model_hps['seq_embed_dim']}_wd{train_hps['wd']}_lr{train_hps['eta']}\"\n",
    "result_dir = f\"{result_dir_prefix}/{model_name}\"\n",
    "model_dir = f\"{model_dir_prefix}/{model_name}\"\n",
    "\n",
    "train_hps[\"model_dir\"] = model_dir\n",
    "train_hps[\"result_dir\"] = result_dir"
   ]
  },
  {
   "cell_type": "code",
   "execution_count": null,
   "metadata": {},
   "outputs": [],
   "source": [
    "# set evaluation parameters\n",
    "eval_params = {}\n",
    "eval_params['batch_col'] = 'batch_indices'\n",
    "eval_params['plot_fname'] = 'moETM'\n",
    "eval_params['cell_type_col'] = 'cell_type'\n",
    "eval_params['clustering_method'] = 'louvain'\n",
    "eval_params['resolutions'] = [0.1,0.2,0.3,0.4,0.5,0.6,0.7,0.8,0.9,1,1.1,1.2,1.3,1.4,1.5,1.6,1.7,1.8,1.9,2]\n",
    "eval_params['plot_dir'] = f'{train_hps[\"result_dir\"]}/eval_figs'"
   ]
  },
  {
   "cell_type": "code",
   "execution_count": null,
   "metadata": {},
   "outputs": [
    {
     "data": {
      "text/plain": [
       "AnnData object with n_obs × n_vars = 2756 × 149871\n",
       "    obs: 'batch_name', 'cell_type', 'experiment_medium', 'n_genes', 'batch_indices'\n",
       "    var: 'chr', 'start', 'end', 'strand', 'n_counts', 'length', 'sequence'\n",
       "    uns: 'log1p'"
      ]
     },
     "execution_count": 12,
     "metadata": {},
     "output_type": "execute_result"
    }
   ],
   "source": [
    "# final checks\n",
    "os.makedirs(train_hps[\"model_dir\"], exist_ok=True)\n",
    "os.makedirs(train_hps[\"result_dir\"], exist_ok=True)\n",
    "os.makedirs(eval_params['plot_dir'], exist_ok=True)\n",
    "\n",
    "adata_atac"
   ]
  },
  {
   "cell_type": "code",
   "execution_count": null,
   "metadata": {},
   "outputs": [
    {
     "name": "stdout",
     "output_type": "stream",
     "text": [
      "===============================================================================================\n",
      "Layer (type:depth-idx)                        Output Shape              Param #\n",
      "===============================================================================================\n",
      "scBasset                                      --                        --\n",
      "├─StochasticReverseComplement: 1-1            [512, 1404, 4]            --\n",
      "├─StochasticShift: 1-2                        [512, 1344, 4]            --\n",
      "├─SequenceEncoder: 1-3                        [512, 32]                 --\n",
      "│    └─Conv2dBlock: 2-1                       [512, 288, 448]           --\n",
      "│    │    └─Conv2d: 3-1                       [512, 288, 1344, 1]       19,872\n",
      "│    │    └─BatchNorm1d: 3-2                  [512, 288, 1344]          576\n",
      "│    │    └─MaxPool1d: 3-3                    [512, 288, 448]           --\n",
      "│    └─Conv1dTower: 2-2                       [512, 512, 7]             --\n",
      "│    │    └─Sequential: 3-4                   [512, 512, 7]             4,299,411\n",
      "│    └─Conv1dBlock: 2-3                       [512, 256, 7]             --\n",
      "│    │    └─GELU: 3-5                         [512, 512, 7]             --\n",
      "│    │    └─Conv1d: 3-6                       [512, 256, 7]             131,328\n",
      "│    │    └─BatchNorm1d: 3-7                  [512, 256, 7]             512\n",
      "│    │    └─Identity: 3-8                     [512, 256, 7]             --\n",
      "│    │    └─MaxPool1d: 3-9                    [512, 256, 7]             --\n",
      "│    └─DenseBlock: 2-4                        [512, 32]                 --\n",
      "│    │    └─GELU: 3-10                        [512, 256, 7]             --\n",
      "│    │    └─Flatten: 3-11                     [512, 1792]               --\n",
      "│    │    └─Linear: 3-12                      [512, 32]                 57,344\n",
      "│    │    └─BatchNorm1d: 3-13                 [512, 32]                 64\n",
      "│    │    └─Dropout: 3-14                     [512, 32]                 --\n",
      "│    └─GELU: 2-5                              [512, 32]                 --\n",
      "├─CellSpecificFinalTransform: 1-4             [512, 2756]               --\n",
      "│    └─Linear: 2-6                            [512, 2756]               90,948\n",
      "===============================================================================================\n",
      "Total params: 4,600,055\n",
      "Trainable params: 4,600,055\n",
      "Non-trainable params: 0\n",
      "Total mult-adds (G): 239.07\n",
      "===============================================================================================\n",
      "Input size (MB): 11.50\n",
      "Forward/backward pass size (MB): 5528.50\n",
      "Params size (MB): 18.40\n",
      "Estimated Total Size (MB): 5558.40\n",
      "===============================================================================================\n"
     ]
    },
    {
     "ename": "ValueError",
     "evalue": "Only one class present in y_true. ROC AUC score is not defined in that case.",
     "output_type": "error",
     "traceback": [
      "\u001b[0;31m---------------------------------------------------------------------------\u001b[0m",
      "\u001b[0;31mValueError\u001b[0m                                Traceback (most recent call last)",
      "\u001b[1;32m/home/mcb/users/dcakma3/moETM_collaboration/multi-modal-single-cell-integration/notebooks/scBasset_on_Buenrostro2018.ipynb Cell 15'\u001b[0m in \u001b[0;36m<cell line: 2>\u001b[0;34m()\u001b[0m\n\u001b[1;32m      <a href='vscode-notebook-cell://ssh-remote%2Bmcb-gpu1.cs.mcgill.ca/home/mcb/users/dcakma3/moETM_collaboration/multi-modal-single-cell-integration/notebooks/scBasset_on_Buenrostro2018.ipynb#ch0000013vscode-remote?line=0'>1</a>\u001b[0m \u001b[39m# train the model\u001b[39;00m\n\u001b[0;32m----> <a href='vscode-notebook-cell://ssh-remote%2Bmcb-gpu1.cs.mcgill.ca/home/mcb/users/dcakma3/moETM_collaboration/multi-modal-single-cell-integration/notebooks/scBasset_on_Buenrostro2018.ipynb#ch0000013vscode-remote?line=1'>2</a>\u001b[0m train_scBasset_AUC(model_hps, train_hps, adata_atac, eval_params)\n",
      "File \u001b[0;32m~/moETM_collaboration/multi-modal-single-cell-integration/scBasset/scBasset/train.py:365\u001b[0m, in \u001b[0;36mtrain_scBasset_AUC\u001b[0;34m(model_hps, train_hps, adata_atac, Eval_kwargs, verbose)\u001b[0m\n\u001b[1;32m    <a href='file:///home/mcb/users/dcakma3/moETM_collaboration/multi-modal-single-cell-integration/scBasset/scBasset/train.py?line=362'>363</a>\u001b[0m train_metrics[\u001b[39m\"\u001b[39m\u001b[39mAUC_micro\u001b[39m\u001b[39m\"\u001b[39m], train_metrics[\u001b[39m\"\u001b[39m\u001b[39mAUPR_micro\u001b[39m\u001b[39m\"\u001b[39m] \u001b[39m=\u001b[39m micro_auroc, micro_aupr\n\u001b[1;32m    <a href='file:///home/mcb/users/dcakma3/moETM_collaboration/multi-modal-single-cell-integration/scBasset/scBasset/train.py?line=363'>364</a>\u001b[0m \u001b[39m# macro metrics\u001b[39;00m\n\u001b[0;32m--> <a href='file:///home/mcb/users/dcakma3/moETM_collaboration/multi-modal-single-cell-integration/scBasset/scBasset/train.py?line=364'>365</a>\u001b[0m macro_auroc, macro_aupr \u001b[39m=\u001b[39m calculate_macro_metrics(labels, pred_probas)\n\u001b[1;32m    <a href='file:///home/mcb/users/dcakma3/moETM_collaboration/multi-modal-single-cell-integration/scBasset/scBasset/train.py?line=365'>366</a>\u001b[0m train_metrics[\u001b[39m\"\u001b[39m\u001b[39mAUC_macro\u001b[39m\u001b[39m\"\u001b[39m], train_metrics[\u001b[39m\"\u001b[39m\u001b[39mAUPR_macro\u001b[39m\u001b[39m\"\u001b[39m] \u001b[39m=\u001b[39m macro_auroc, macro_aupr\n\u001b[1;32m    <a href='file:///home/mcb/users/dcakma3/moETM_collaboration/multi-modal-single-cell-integration/scBasset/scBasset/train.py?line=367'>368</a>\u001b[0m \u001b[39m# validate model on held out peaks\u001b[39;00m\n",
      "File \u001b[0;32m~/moETM_collaboration/multi-modal-single-cell-integration/./scBasset/eval_utils.py:671\u001b[0m, in \u001b[0;36mcalculate_macro_metrics\u001b[0;34m(target, pred_probas)\u001b[0m\n\u001b[1;32m    <a href='file:///home/mcb/users/dcakma3/moETM_collaboration/multi-modal-single-cell-integration/./scBasset/eval_utils.py?line=668'>669</a>\u001b[0m     cur_targets \u001b[39m=\u001b[39m target[:,idx]\n\u001b[1;32m    <a href='file:///home/mcb/users/dcakma3/moETM_collaboration/multi-modal-single-cell-integration/./scBasset/eval_utils.py?line=669'>670</a>\u001b[0m     cur_probs \u001b[39m=\u001b[39m pred_probas[:,idx]\n\u001b[0;32m--> <a href='file:///home/mcb/users/dcakma3/moETM_collaboration/multi-modal-single-cell-integration/./scBasset/eval_utils.py?line=670'>671</a>\u001b[0m     temp\u001b[39m.\u001b[39mappend(roc_auc_score(cur_targets, cur_probs))\n\u001b[1;32m    <a href='file:///home/mcb/users/dcakma3/moETM_collaboration/multi-modal-single-cell-integration/./scBasset/eval_utils.py?line=671'>672</a>\u001b[0m auroc \u001b[39m=\u001b[39m np\u001b[39m.\u001b[39mmean(temp)\n\u001b[1;32m    <a href='file:///home/mcb/users/dcakma3/moETM_collaboration/multi-modal-single-cell-integration/./scBasset/eval_utils.py?line=672'>673</a>\u001b[0m \u001b[39m# calculate macro AUPR\u001b[39;00m\n",
      "File \u001b[0;32m~/bin/miniconda3/envs/moETM/lib/python3.8/site-packages/sklearn/metrics/_ranking.py:567\u001b[0m, in \u001b[0;36mroc_auc_score\u001b[0;34m(y_true, y_score, average, sample_weight, max_fpr, multi_class, labels)\u001b[0m\n\u001b[1;32m    <a href='file:///home/mcb/users/dcakma3/bin/miniconda3/envs/moETM/lib/python3.8/site-packages/sklearn/metrics/_ranking.py?line=564'>565</a>\u001b[0m     labels \u001b[39m=\u001b[39m np\u001b[39m.\u001b[39munique(y_true)\n\u001b[1;32m    <a href='file:///home/mcb/users/dcakma3/bin/miniconda3/envs/moETM/lib/python3.8/site-packages/sklearn/metrics/_ranking.py?line=565'>566</a>\u001b[0m     y_true \u001b[39m=\u001b[39m label_binarize(y_true, classes\u001b[39m=\u001b[39mlabels)[:, \u001b[39m0\u001b[39m]\n\u001b[0;32m--> <a href='file:///home/mcb/users/dcakma3/bin/miniconda3/envs/moETM/lib/python3.8/site-packages/sklearn/metrics/_ranking.py?line=566'>567</a>\u001b[0m     \u001b[39mreturn\u001b[39;00m _average_binary_score(\n\u001b[1;32m    <a href='file:///home/mcb/users/dcakma3/bin/miniconda3/envs/moETM/lib/python3.8/site-packages/sklearn/metrics/_ranking.py?line=567'>568</a>\u001b[0m         partial(_binary_roc_auc_score, max_fpr\u001b[39m=\u001b[39;49mmax_fpr),\n\u001b[1;32m    <a href='file:///home/mcb/users/dcakma3/bin/miniconda3/envs/moETM/lib/python3.8/site-packages/sklearn/metrics/_ranking.py?line=568'>569</a>\u001b[0m         y_true,\n\u001b[1;32m    <a href='file:///home/mcb/users/dcakma3/bin/miniconda3/envs/moETM/lib/python3.8/site-packages/sklearn/metrics/_ranking.py?line=569'>570</a>\u001b[0m         y_score,\n\u001b[1;32m    <a href='file:///home/mcb/users/dcakma3/bin/miniconda3/envs/moETM/lib/python3.8/site-packages/sklearn/metrics/_ranking.py?line=570'>571</a>\u001b[0m         average,\n\u001b[1;32m    <a href='file:///home/mcb/users/dcakma3/bin/miniconda3/envs/moETM/lib/python3.8/site-packages/sklearn/metrics/_ranking.py?line=571'>572</a>\u001b[0m         sample_weight\u001b[39m=\u001b[39;49msample_weight,\n\u001b[1;32m    <a href='file:///home/mcb/users/dcakma3/bin/miniconda3/envs/moETM/lib/python3.8/site-packages/sklearn/metrics/_ranking.py?line=572'>573</a>\u001b[0m     )\n\u001b[1;32m    <a href='file:///home/mcb/users/dcakma3/bin/miniconda3/envs/moETM/lib/python3.8/site-packages/sklearn/metrics/_ranking.py?line=573'>574</a>\u001b[0m \u001b[39melse\u001b[39;00m:  \u001b[39m# multilabel-indicator\u001b[39;00m\n\u001b[1;32m    <a href='file:///home/mcb/users/dcakma3/bin/miniconda3/envs/moETM/lib/python3.8/site-packages/sklearn/metrics/_ranking.py?line=574'>575</a>\u001b[0m     \u001b[39mreturn\u001b[39;00m _average_binary_score(\n\u001b[1;32m    <a href='file:///home/mcb/users/dcakma3/bin/miniconda3/envs/moETM/lib/python3.8/site-packages/sklearn/metrics/_ranking.py?line=575'>576</a>\u001b[0m         partial(_binary_roc_auc_score, max_fpr\u001b[39m=\u001b[39mmax_fpr),\n\u001b[1;32m    <a href='file:///home/mcb/users/dcakma3/bin/miniconda3/envs/moETM/lib/python3.8/site-packages/sklearn/metrics/_ranking.py?line=576'>577</a>\u001b[0m         y_true,\n\u001b[0;32m   (...)\u001b[0m\n\u001b[1;32m    <a href='file:///home/mcb/users/dcakma3/bin/miniconda3/envs/moETM/lib/python3.8/site-packages/sklearn/metrics/_ranking.py?line=579'>580</a>\u001b[0m         sample_weight\u001b[39m=\u001b[39msample_weight,\n\u001b[1;32m    <a href='file:///home/mcb/users/dcakma3/bin/miniconda3/envs/moETM/lib/python3.8/site-packages/sklearn/metrics/_ranking.py?line=580'>581</a>\u001b[0m     )\n",
      "File \u001b[0;32m~/bin/miniconda3/envs/moETM/lib/python3.8/site-packages/sklearn/metrics/_base.py:75\u001b[0m, in \u001b[0;36m_average_binary_score\u001b[0;34m(binary_metric, y_true, y_score, average, sample_weight)\u001b[0m\n\u001b[1;32m     <a href='file:///home/mcb/users/dcakma3/bin/miniconda3/envs/moETM/lib/python3.8/site-packages/sklearn/metrics/_base.py?line=71'>72</a>\u001b[0m     \u001b[39mraise\u001b[39;00m \u001b[39mValueError\u001b[39;00m(\u001b[39m\"\u001b[39m\u001b[39m{0}\u001b[39;00m\u001b[39m format is not supported\u001b[39m\u001b[39m\"\u001b[39m\u001b[39m.\u001b[39mformat(y_type))\n\u001b[1;32m     <a href='file:///home/mcb/users/dcakma3/bin/miniconda3/envs/moETM/lib/python3.8/site-packages/sklearn/metrics/_base.py?line=73'>74</a>\u001b[0m \u001b[39mif\u001b[39;00m y_type \u001b[39m==\u001b[39m \u001b[39m\"\u001b[39m\u001b[39mbinary\u001b[39m\u001b[39m\"\u001b[39m:\n\u001b[0;32m---> <a href='file:///home/mcb/users/dcakma3/bin/miniconda3/envs/moETM/lib/python3.8/site-packages/sklearn/metrics/_base.py?line=74'>75</a>\u001b[0m     \u001b[39mreturn\u001b[39;00m binary_metric(y_true, y_score, sample_weight\u001b[39m=\u001b[39;49msample_weight)\n\u001b[1;32m     <a href='file:///home/mcb/users/dcakma3/bin/miniconda3/envs/moETM/lib/python3.8/site-packages/sklearn/metrics/_base.py?line=76'>77</a>\u001b[0m check_consistent_length(y_true, y_score, sample_weight)\n\u001b[1;32m     <a href='file:///home/mcb/users/dcakma3/bin/miniconda3/envs/moETM/lib/python3.8/site-packages/sklearn/metrics/_base.py?line=77'>78</a>\u001b[0m y_true \u001b[39m=\u001b[39m check_array(y_true)\n",
      "File \u001b[0;32m~/bin/miniconda3/envs/moETM/lib/python3.8/site-packages/sklearn/metrics/_ranking.py:337\u001b[0m, in \u001b[0;36m_binary_roc_auc_score\u001b[0;34m(y_true, y_score, sample_weight, max_fpr)\u001b[0m\n\u001b[1;32m    <a href='file:///home/mcb/users/dcakma3/bin/miniconda3/envs/moETM/lib/python3.8/site-packages/sklearn/metrics/_ranking.py?line=334'>335</a>\u001b[0m \u001b[39m\"\"\"Binary roc auc score.\"\"\"\u001b[39;00m\n\u001b[1;32m    <a href='file:///home/mcb/users/dcakma3/bin/miniconda3/envs/moETM/lib/python3.8/site-packages/sklearn/metrics/_ranking.py?line=335'>336</a>\u001b[0m \u001b[39mif\u001b[39;00m \u001b[39mlen\u001b[39m(np\u001b[39m.\u001b[39munique(y_true)) \u001b[39m!=\u001b[39m \u001b[39m2\u001b[39m:\n\u001b[0;32m--> <a href='file:///home/mcb/users/dcakma3/bin/miniconda3/envs/moETM/lib/python3.8/site-packages/sklearn/metrics/_ranking.py?line=336'>337</a>\u001b[0m     \u001b[39mraise\u001b[39;00m \u001b[39mValueError\u001b[39;00m(\n\u001b[1;32m    <a href='file:///home/mcb/users/dcakma3/bin/miniconda3/envs/moETM/lib/python3.8/site-packages/sklearn/metrics/_ranking.py?line=337'>338</a>\u001b[0m         \u001b[39m\"\u001b[39m\u001b[39mOnly one class present in y_true. ROC AUC score \u001b[39m\u001b[39m\"\u001b[39m\n\u001b[1;32m    <a href='file:///home/mcb/users/dcakma3/bin/miniconda3/envs/moETM/lib/python3.8/site-packages/sklearn/metrics/_ranking.py?line=338'>339</a>\u001b[0m         \u001b[39m\"\u001b[39m\u001b[39mis not defined in that case.\u001b[39m\u001b[39m\"\u001b[39m\n\u001b[1;32m    <a href='file:///home/mcb/users/dcakma3/bin/miniconda3/envs/moETM/lib/python3.8/site-packages/sklearn/metrics/_ranking.py?line=339'>340</a>\u001b[0m     )\n\u001b[1;32m    <a href='file:///home/mcb/users/dcakma3/bin/miniconda3/envs/moETM/lib/python3.8/site-packages/sklearn/metrics/_ranking.py?line=341'>342</a>\u001b[0m fpr, tpr, _ \u001b[39m=\u001b[39m roc_curve(y_true, y_score, sample_weight\u001b[39m=\u001b[39msample_weight)\n\u001b[1;32m    <a href='file:///home/mcb/users/dcakma3/bin/miniconda3/envs/moETM/lib/python3.8/site-packages/sklearn/metrics/_ranking.py?line=342'>343</a>\u001b[0m \u001b[39mif\u001b[39;00m max_fpr \u001b[39mis\u001b[39;00m \u001b[39mNone\u001b[39;00m \u001b[39mor\u001b[39;00m max_fpr \u001b[39m==\u001b[39m \u001b[39m1\u001b[39m:\n",
      "\u001b[0;31mValueError\u001b[0m: Only one class present in y_true. ROC AUC score is not defined in that case."
     ]
    }
   ],
   "source": [
    "# train the model\n",
    "train_scBasset_AUC(model_hps, train_hps, adata_atac, eval_params)"
   ]
  }
 ],
 "metadata": {
  "interpreter": {
   "hash": "b83f976b5780cadf247663245b1045c4826f784e9f9a667338c10ea7334f6a28"
  },
  "kernelspec": {
   "display_name": "Python 3.8.12",
   "language": "python",
   "name": "python3"
  },
  "language_info": {
   "codemirror_mode": {
    "name": "ipython",
    "version": 3
   },
   "file_extension": ".py",
   "mimetype": "text/x-python",
   "name": "python",
   "nbconvert_exporter": "python",
   "pygments_lexer": "ipython3",
   "version": "3.8.12"
  },
  "orig_nbformat": 4
 },
 "nbformat": 4,
 "nbformat_minor": 2
}
