{
 "cells": [
  {
   "cell_type": "markdown",
   "metadata": {},
   "source": [
    "## Exploring genomes and mouse brain dataset\n",
    "\n",
    "This notebook assumes you have already executed:\n",
    "\n",
    "- the bash scripts for downloading human and mouse genomes\n",
    "- the python script for preprocessing mouse brain dataset\n",
    "\n",
    "These scripts are located at `data_preparation` directory and have prefix `download_` and `preprocess_`, respectively. Please see comments in these scripts for further instructions on running these scripts. "
   ]
  },
  {
   "cell_type": "code",
   "execution_count": 36,
   "metadata": {},
   "outputs": [],
   "source": [
    "import pdb \n",
    "import os\n",
    "import random\n",
    "import pickle\n",
    "from itertools import chain\n",
    "\n",
    "\n",
    "import os.path as osp\n",
    "import numpy as np \n",
    "import matplotlib.pyplot as plt\n",
    "import pandas as pd\n",
    "from tqdm import tqdm\n",
    "\n",
    "# conda install -c conda-forge biopython\n",
    "# pip install biopython\n",
    "from Bio import SeqIO\n",
    "from Bio import pairwise2\n",
    "\n",
    "# conda install -c bioconda pyranges\n",
    "# pip install pyranges\n",
    "import pyranges as pr\n",
    "\n",
    "# move working directory to parent\n",
    "os.chdir(\"..\")\n"
   ]
  },
  {
   "cell_type": "markdown",
   "metadata": {},
   "source": [
    "#### Human (hg19 and hg38) and mouse (mm10) genome "
   ]
  },
  {
   "cell_type": "markdown",
   "metadata": {},
   "source": [
    "hg19 and hg38 are human genome assemblies. hg19 is short for GRCH37 (Genome Reference Consortium Human Build 37) and hg38 is short for GRCh38 (Genome Reference Consortium Human Build 38). hg38 is a corrected and improved version of hg19. Similarly, mm10 is one of the mouse genome assemblies. mm10 is short for GRCm38 (Genome Reference Consortium Mouse Build 38). \n",
    "\n",
    "In order to do an analysis based on genome sequence underlying ATAC-seq peaks, the most important step is to determine which version of the genome is used for aligning reads in an ATAC-seq experiment (mostly reported in Methods section of dataset papers). It is very important to distinguish between these builds since using one in place of other makes the analysis erroneous. In case of mouse brain dataset paper (Chromatin Potential Identified by Shared Single-Cell Profiling of RNA and Chromatin), mm10 and hg19 are used."
   ]
  },
  {
   "cell_type": "markdown",
   "metadata": {},
   "source": [
    "### Load genomes"
   ]
  },
  {
   "cell_type": "code",
   "execution_count": 2,
   "metadata": {},
   "outputs": [],
   "source": [
    "def check_available(genome_type, chr_filenames):\n",
    "    \"\"\" \n",
    "    This function checks if the files for the specified genome is\n",
    "        ready for preprocessing\n",
    "    :@param genome_type: One of \"hg38\", \"hg19\" or \"mm10\" \n",
    "    :@param chr_filenames: A list of file names for the chromosome that \n",
    "        should have been downloaded\n",
    "    \"\"\"\n",
    "    data_path_prefix = f\"./data/{genome_type}\"\n",
    "    assert osp.exists(data_path_prefix),\\\n",
    "        f\"Please run download_{genome_type}.sh script first.\"\n",
    "\n",
    "    for filename in chr_filenames:\n",
    "        assert osp.exists(osp.join(data_path_prefix, filename)),\\\n",
    "            f\"Please run download_{genome_type}.sh script first.\"\n",
    "\n",
    "def load_genome_to_dict(genome_type, chr_filenames):\n",
    "    \"\"\"\n",
    "    Load the specified genome to a dictionary where keys are chromosome\n",
    "    names and values are genomic sequence for that chromosome\n",
    "    :@param genome_type: One of \"hg38\", \"hg19\" or \"mm10\" \n",
    "    :@param chr_filenames: A list of file names for the chromosome that \n",
    "        should have been downloaded\n",
    "    \"\"\"\n",
    "\n",
    "    check_available(genome_type, chr_filenames)\n",
    "\n",
    "    data_path_prefix = f\"./data/{genome_type}\"\n",
    "    chr_filenames = [osp.join(data_path_prefix, chrom)\\\n",
    "        for chrom in chr_filenames]\n",
    "\n",
    "    # load fasta files per chromosome\n",
    "    sequences = {}\n",
    "    for filename in chr_filenames:\n",
    "        file = open(filename)\n",
    "        fasta = SeqIO.parse(file, \"fasta\")\n",
    "        for record in fasta:\n",
    "            name, sequence = record.id, str(record.seq)\n",
    "            sequences[name] = sequence\n",
    "        file.close()\n",
    "    \n",
    "    return sequences"
   ]
  },
  {
   "cell_type": "markdown",
   "metadata": {},
   "source": [
    "Here, we will load genome sequences for all chromosomes other than chrM (mitochondrial DNA). This corresponds to 24 chromosomes for humans (chr1-22 + chrX + chrY) and 20 chromosomes for mouse (chr1-19 + chrX + chrY)."
   ]
  },
  {
   "cell_type": "code",
   "execution_count": 34,
   "metadata": {},
   "outputs": [],
   "source": [
    "# humans: chr1-22 + chrX + chrY\n",
    "chr_filenames = [f\"chr{id}.fa\"\\\n",
    "    for id in list(range(1,23)) + [\"X\", \"Y\"]]\n",
    "\n",
    "# load hg19\n",
    "genome_type = \"hg19\"\n",
    "hg19_genome = load_genome_to_dict(genome_type, chr_filenames)\n",
    "\n",
    "# load hg38\n",
    "genome_type = \"hg38\"\n",
    "hg38_genome = load_genome_to_dict(genome_type, chr_filenames)\n"
   ]
  },
  {
   "cell_type": "markdown",
   "metadata": {},
   "source": [
    "Each genome assembly is a string from a 10 letter alphabet (ATGCN and atgcn). ATGC are bases and N denotes ambiguous base which indicates that corresponding genome locations could not be sequenced properly. Lowercase versions of these letters marks repeats and low-complexity regions of the genome. Please refer to [this](https://bioinformatics.stackexchange.com/questions/225/uppercase-vs-lowercase-letters-in-reference-genome) source for complete definition of this alphabet.\n",
    "\n",
    "For our use case, we will treat lowercase letters and uppercase letters in same manner. ATGC will be 1-hot encoded (i.e. 4 $\\times$ 1 vector). Similarly, N will be encoded as a 4 $\\times$ 1 vector whose all elements are $0.25$ to reflect ambiguity.\n",
    "\n",
    "Loaded genomes are preprocessed to be a dict with chromosome names as keys and genome sequence of that chromosomes as values."
   ]
  },
  {
   "cell_type": "markdown",
   "metadata": {},
   "source": [
    "#### Compare hg19 and hg38 chromosome by chromosome"
   ]
  },
  {
   "cell_type": "code",
   "execution_count": 38,
   "metadata": {},
   "outputs": [
    {
     "name": "stdout",
     "output_type": "stream",
     "text": [
      "Unique characters in hg38 genome: ['G', 'a', 'N', 'T', 'A', 'g', 'c', 'C', 't', 'n']\n",
      "Unique characters in hg19 genome: ['G', 'a', 'N', 'T', 'A', 'g', 'c', 'C', 't', 'n']\n"
     ]
    },
    {
     "data": {
      "image/png": "[encoded data removed]",
      "text/plain": [
       "<Figure size 432x288 with 1 Axes>"
      ]
     },
     "metadata": {
      "needs_background": "light"
     },
     "output_type": "display_data"
    },
    {
     "data": {
      "image/png": "[encoded data removed]",
      "text/plain": [
       "<Figure size 432x288 with 1 Axes>"
      ]
     },
     "metadata": {
      "needs_background": "light"
     },
     "output_type": "display_data"
    }
   ],
   "source": [
    "chr_names = [name.split(\".\")[0] for name in chr_filenames]\n",
    "\n",
    "# find alphabet of the genome\n",
    "temp = [list(set(hg38_genome[chrom])) for chrom in chr_names]\n",
    "alph = list(set(chain(*temp)))\n",
    "print(f\"Unique characters in hg38 genome: {alph}\")\n",
    "\n",
    "temp = [list(set(hg19_genome[chrom])) for chrom in chr_names]\n",
    "alph = list(set(chain(*temp)))\n",
    "print(f\"Unique characters in hg19 genome: {alph}\")\n",
    "\n",
    "# calculate chromosome lengths\n",
    "df_dct = {\n",
    "    \"hg38\": [len(hg38_genome[chrom]) for chrom in chr_names],\n",
    "    \"hg19\": [len(hg19_genome[chrom]) for chrom in chr_names]\n",
    "}\n",
    "df = pd.DataFrame(df_dct, index=chr_names)\n",
    "\n",
    "# plot absolute lengths\n",
    "plt.figure()\n",
    "ax = plt.gca()\n",
    "ax.get_xaxis().tick_bottom()\n",
    "ax.get_yaxis().tick_left()\n",
    "ax.set_ylabel(\"Length\")\n",
    "xtick_location = range(1, df.shape[0]+1)\n",
    "ax.bar(xtick_location, df[\"hg38\"], label=\"hg38\", alpha=0.8)\n",
    "ax.bar(xtick_location, df[\"hg19\"], label=\"hg19\", alpha=0.8)\n",
    "ax.set_xticks(xtick_location)\n",
    "ax.set_xticklabels(chr_names)\n",
    "ax.legend()\n",
    "plt.xticks(rotation=90)\n",
    "plt.show()\n",
    "\n",
    "# plot length difference\n",
    "plt.figure()\n",
    "ax = plt.gca()\n",
    "ax.get_xaxis().tick_bottom()\n",
    "ax.get_yaxis().tick_left()\n",
    "ax.set_ylabel(\"|len(hg38) - len(hg19)| per chromosome\")\n",
    "xtick_location = range(1, df.shape[0]+1)\n",
    "ax.bar(xtick_location, (df[\"hg38\"] - df[\"hg19\"]).abs(), alpha=0.8)\n",
    "ax.set_xticks(xtick_location)\n",
    "ax.set_xticklabels(chr_names)\n",
    "plt.xticks(rotation=90)\n",
    "plt.show()\n",
    "\n"
   ]
  },
  {
   "cell_type": "markdown",
   "metadata": {},
   "source": [
    "Now, we delete human genomes since they are not needed and load mouse genome in the same format as in human genome."
   ]
  },
  {
   "cell_type": "code",
   "execution_count": null,
   "metadata": {},
   "outputs": [],
   "source": [
    "del hg38_genome, hg19_genome"
   ]
  },
  {
   "cell_type": "code",
   "execution_count": 3,
   "metadata": {},
   "outputs": [],
   "source": [
    "# mouse: chr1-19 + chrX + chrY\n",
    "chr_filenames = [f\"chr{id}.fa\" for id in list(range(1,20)) + [\"X\", \"Y\"]]\n",
    "\n",
    "# load mm10\n",
    "genome_type = \"mm10\"\n",
    "mm10_genome = load_genome_to_dict(genome_type, chr_filenames)"
   ]
  },
  {
   "cell_type": "markdown",
   "metadata": {},
   "source": [
    "### Exploring genome sequences underlying peaks\n",
    "Please run the \"preprocess_mouse_brain_data.py\" script. For this dataset all peaks have 500bp length. However, for each dataset length of peaks may differ. \n",
    "\n",
    "- load mouse brain dataset preprocessed to include genomic regions of peaks\n",
    "- (Optional) plot the distribution of peak lengths as a histogram\n",
    "- (Optional) expand peaks to the 1344bp (for full scale scBasset)\n",
    "- expand peaks by 30 bp at each side. This is to be used for random shifting data augmentation procedure for scBasset model.\n",
    "- 1-hot encode sequences\n",
    "- attach genome sequences to var field of AnnData object for ATAC modality.\n"
   ]
  },
  {
   "cell_type": "code",
   "execution_count": 26,
   "metadata": {},
   "outputs": [],
   "source": [
    "def dna_1hot(seq, seq_len=None, n_uniform=False):\n",
    "    \"\"\"dna_1hot\n",
    "    Args:\n",
    "      seq:       nucleotide sequence.\n",
    "      seq_len:   length to extend/trim sequences to.\n",
    "      n_uniform: represent N's as 0.25, forcing float16,\n",
    "                 rather than sampling.\n",
    "    Returns:\n",
    "      seq_code: length by nucleotides array representation.\n",
    "    \"\"\"\n",
    "    if seq_len is None:\n",
    "        seq_len = len(seq)\n",
    "        seq_start = 0\n",
    "    else:\n",
    "        if seq_len <= len(seq):\n",
    "            # trim the sequence\n",
    "            seq_trim = (len(seq) - seq_len) // 2\n",
    "            seq = seq[seq_trim : seq_trim + seq_len]\n",
    "            seq_start = 0\n",
    "        else:\n",
    "            seq_start = (seq_len - len(seq)) // 2\n",
    "    seq = seq.upper()\n",
    "\n",
    "    # map nt's to a matrix len(seq)x4 of 0's and 1's.\n",
    "    if n_uniform:\n",
    "        seq_code = np.zeros((seq_len, 4), dtype=\"float16\")\n",
    "    else:\n",
    "        seq_code = np.zeros((seq_len, 4), dtype=\"bool\")\n",
    "\n",
    "    for i in range(seq_len):\n",
    "        if i >= seq_start and i - seq_start < len(seq):\n",
    "            nt = seq[i - seq_start]\n",
    "            if nt == \"A\" or nt == \"a\":\n",
    "                seq_code[i, 0] = 1\n",
    "            elif nt == \"C\" or nt == \"c\":\n",
    "                seq_code[i, 1] = 1\n",
    "            elif nt == \"G\" or nt == \"g\":\n",
    "                seq_code[i, 2] = 1\n",
    "            elif nt == \"T\" or nt == \"t\":\n",
    "                seq_code[i, 3] = 1\n",
    "            else:\n",
    "                if n_uniform:\n",
    "                    seq_code[i, :] = 0.25\n",
    "                else:\n",
    "                    ni = random.randint(0, 3)\n",
    "                    seq_code[i, ni] = 1\n",
    "    return seq_code"
   ]
  },
  {
   "cell_type": "code",
   "execution_count": 32,
   "metadata": {},
   "outputs": [],
   "source": [
    "import anndata as ad\n",
    "\n",
    "# load preprocessed atac data of mouse brain dataset\n",
    "data_path_prefix = f\"./data/mouse_brain\"\n",
    "adata = ad.read_h5ad(osp.join(data_path_prefix, \"atac_count.preprocessed.h5ad\"))\n",
    "peaks = adata.var\n",
    "\n",
    "# calculate length of peaks (all peaks are 500 bp)\n",
    "peaks[\"length\"] = peaks[\"end\"] - peaks[\"start\"] + 1\n",
    "assert peaks[\"length\"].mean() == 500 and peaks[\"length\"].std() == 0\n",
    "\n",
    "# extend peaks 30bp both upstream downstream\n",
    "# during training we will stochastically shift sequences by \n",
    "# stochastically removing 30bp from sequence start, end or both\n",
    "offset = 30\n",
    "peaks[\"sequence\"] = [mm10_genome[chrom][start-offset:end+offset+1]\\\n",
    "    for chrom, start, end in zip(peaks[\"chr\"], peaks[\"start\"], peaks[\"end\"])]\n",
    "temp = [len(seq) for seq in peaks[\"sequence\"]]\n",
    "assert np.mean(temp) == 500 + 2 * offset and np.std(temp) == 0\n",
    "\n",
    "# one hot encode sequences\n",
    "peaks[\"sequence\"] = [np.array(dna_1hot(seq, n_uniform=True)) for seq in peaks[\"sequence\"]]\n",
    "assert peaks[\"sequence\"][0].shape == (560, 4)\n",
    "\n",
    "# add dataframe back to var field of AnnData object for ATAC data and save\n",
    "adata.var = peaks\n",
    "\n",
    "# save\n",
    "filename = osp.join(data_path_prefix,\\\n",
    "    \"atac_count.seq.h5ad\")\n",
    "adata.write(filename)"
   ]
  }
 ],
 "metadata": {
  "interpreter": {
   "hash": "b83f976b5780cadf247663245b1045c4826f784e9f9a667338c10ea7334f6a28"
  },
  "kernelspec": {
   "display_name": "Python 3.8.12",
   "language": "python",
   "name": "python3"
  },
  "language_info": {
   "codemirror_mode": {
    "name": "ipython",
    "version": 3
   },
   "file_extension": ".py",
   "mimetype": "text/x-python",
   "name": "python",
   "nbconvert_exporter": "python",
   "pygments_lexer": "ipython3",
   "version": "3.8.12"
  },
  "orig_nbformat": 4
 },
 "nbformat": 4,
 "nbformat_minor": 2
}
